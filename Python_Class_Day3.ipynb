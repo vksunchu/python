{
 "cells": [
  {
   "cell_type": "code",
   "execution_count": 1,
   "metadata": {},
   "outputs": [
    {
     "name": "stdout",
     "output_type": "stream",
     "text": [
      "['honda', 'yamaha', 'suzuki', 'r15', 'pulser', 'hayabusa']\n"
     ]
    }
   ],
   "source": [
    "# introduction to the list\n",
    "# List is a mutable datatype means the values can be changed,deleted,updated or created\n",
    "# it is created by using a word list or by putting values in a []\n",
    "# lets create a list called as motorbikes and with some values in it (elements)\n",
    "motorcycles =['honda','yamaha','suzuki','r15','pulser','hayabusa']\n",
    "print(motorcycles)"
   ]
  },
  {
   "cell_type": "code",
   "execution_count": 2,
   "metadata": {},
   "outputs": [
    {
     "name": "stdout",
     "output_type": "stream",
     "text": [
      "['honda', 'yamaha', 'suzuki', 'r15', 'pulser', 'hayabusa']\n",
      "['hayabusa', 'honda', 'pulser', 'r15', 'suzuki', 'yamaha']\n"
     ]
    }
   ],
   "source": [
    "# lets create a list called as motorbikes and with some values in it (elements)\n",
    "motorcycles =['honda','yamaha','suzuki','r15','pulser','hayabusa']\n",
    "# to arrange them in a order sequentially  then we have to use a method called sort\n",
    "print(motorcycles) # this will print the elements as in the list\n",
    "motorcycles.sort() # this will sort the elements in a list\n",
    "print(motorcycles) # this will print the list in the sortable fashion"
   ]
  },
  {
   "cell_type": "code",
   "execution_count": 3,
   "metadata": {},
   "outputs": [
    {
     "name": "stdout",
     "output_type": "stream",
     "text": [
      "['honda', 'yamaha', 'suzuki', 'r15', 'pulser', 'hayabusa']\n",
      "['hayabusa', 'pulser', 'r15', 'suzuki', 'yamaha', 'honda']\n"
     ]
    }
   ],
   "source": [
    "# lets create a list called as motorbikes and with some values in it (elements)\n",
    "motorcycles =['honda','yamaha','suzuki','r15','pulser','hayabusa']\n",
    "# to reverse them in a order sequentially  then we have to use a method called reverse\n",
    "print(motorcycles) # this will print the elements as in the list\n",
    "motorcycles.reverse() # this will reverse the elements in a list\n",
    "print(motorcycles) # this will print the list in the reversable fashion"
   ]
  },
  {
   "cell_type": "code",
   "execution_count": 7,
   "metadata": {},
   "outputs": [
    {
     "name": "stdout",
     "output_type": "stream",
     "text": [
      "['honda', 'yamaha', 'suzuki', 'r15', 'pulser', 'hayabusa']\n",
      "6\n"
     ]
    }
   ],
   "source": [
    "# lets create a list called as motorbikes and with some values in it (elements)\n",
    "motorcycles =['honda','yamaha','suzuki','r15','pulser','hayabusa']\n",
    "# to calculate the no of elements in an list we have to use a method called as len\n",
    "print(motorcycles) # this will print the elements as in the list\n",
    "print(len(motorcycles))   #  this will print the number of elements in the list\n",
    "\n"
   ]
  },
  {
   "cell_type": "code",
   "execution_count": 8,
   "metadata": {},
   "outputs": [
    {
     "name": "stdout",
     "output_type": "stream",
     "text": [
      "['honda', 'yamaha', 'suzuki', 'r15', 'pulser', 'hayabusa']\n",
      "['honda', 'yamaha', 'suzuki', 'r15', 'pulser']\n",
      "5\n"
     ]
    }
   ],
   "source": [
    "# lets create a list called as motorbikes and with some values in it (elements)\n",
    "motorcycles =['honda','yamaha','suzuki','r15','pulser','hayabusa']\n",
    "# How to delete an element from the given list \n",
    "print(motorcycles) # this will print the elements as in the list\n",
    "# to delete an element from the list  we have a method called as pop\n",
    "# by default pop will remove the last element from the list\n",
    "# if we want to pop a specific element then we have to know the index of it \n",
    "# here we are using just pop to see the last element gets deleted\n",
    "motorcycles.pop() # this should remove hayabusa\n",
    "print(motorcycles) # this should have 5 elements now \n",
    "print(len(motorcycles))   #  this will print the number of elements in the list\n",
    "\n"
   ]
  },
  {
   "cell_type": "code",
   "execution_count": 9,
   "metadata": {},
   "outputs": [
    {
     "name": "stdout",
     "output_type": "stream",
     "text": [
      "['honda', 'yamaha', 'suzuki', 'r15', 'pulser', 'hayabusa']\n",
      "['yamaha', 'suzuki', 'r15', 'pulser', 'hayabusa']\n",
      "5\n"
     ]
    }
   ],
   "source": [
    "# lets create a list called as motorbikes and with some values in it (elements)\n",
    "motorcycles =['honda','yamaha','suzuki','r15','pulser','hayabusa']\n",
    "# How to delete an element from the given list \n",
    "print(motorcycles) # this will print the elements as in the list\n",
    "# to delete an element from the list  we have a method called as pop\n",
    "# by default pop will remove the last element from the list\n",
    "# if we want to pop a specific element then we have to know the index of it \n",
    "# here we are using just pop to see the last element gets deleted\n",
    "motorcycles.pop(0) # this should remove The first element which is honda\n",
    "print(motorcycles) # this should have 5 elements now \n",
    "print(len(motorcycles))   #  this will print the number of elements in the list\n",
    "\n"
   ]
  },
  {
   "cell_type": "code",
   "execution_count": 11,
   "metadata": {},
   "outputs": [
    {
     "name": "stdout",
     "output_type": "stream",
     "text": [
      "['honda', 'yamaha', 'suzuki', 'r15', 'pulser', 'hayabusa']\n",
      "['honda', 'yamaha', 'suzuki', 'Ducati', 'pulser', 'hayabusa']\n",
      "6\n"
     ]
    }
   ],
   "source": [
    "# lets create a list called as motorbikes and with some values in it (elements)\n",
    "motorcycles =['honda','yamaha','suzuki','r15','pulser','hayabusa']\n",
    "# How to delete an element from the given list \n",
    "print(motorcycles) # this will print the elements as in the list\n",
    "# to change the value of an element in a list we have to use the index and override it\n",
    "motorcycles[3] = 'Ducati' # this should update the 3rd element from r15 to Ducati\n",
    "print(motorcycles) # this should have 6 elements now \n",
    "print(len(motorcycles))   #  this will print the number of elements in the list\n",
    "\n"
   ]
  },
  {
   "cell_type": "code",
   "execution_count": 60,
   "metadata": {},
   "outputs": [
    {
     "name": "stdout",
     "output_type": "stream",
     "text": [
      "[]\n",
      "['audi', 'bmw', 'volvo', 'swift', 'cruize']\n",
      "['audi', 'bmw', 'volvo', 'swift', 'cruize', 'tesla']\n"
     ]
    }
   ],
   "source": [
    "# lets create a list called as motorbikes and with some values in it (elements)\n",
    "# now we can create a empty list and then add the elements dynamically\n",
    "cars =[] # this is an empty list\n",
    "print(cars) # this will print the elements as in the list\n",
    "# to add elements to the empty list we have to use a method called append\n",
    "#  adding the elements to an empty list\n",
    "cars.append('audi')\n",
    "cars.append('bmw')\n",
    "cars.append('volvo')\n",
    "cars.append('swift')\n",
    "cars.append('cruize')\n",
    "# This will print the elements \n",
    "print(cars)\n",
    "# we can also use the insert method to add an element\n",
    "cars.insert(5,'tesla')\n",
    "print(cars)"
   ]
  }
 ],
 "metadata": {
  "kernelspec": {
   "display_name": "Python 3",
   "language": "python",
   "name": "python3"
  },
  "language_info": {
   "codemirror_mode": {
    "name": "ipython",
    "version": 3
   },
   "file_extension": ".py",
   "mimetype": "text/x-python",
   "name": "python",
   "nbconvert_exporter": "python",
   "pygments_lexer": "ipython3",
   "version": "3.7.3"
  }
 },
 "nbformat": 4,
 "nbformat_minor": 2
}
