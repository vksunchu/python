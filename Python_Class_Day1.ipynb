{
 "cells": [
  {
   "cell_type": "code",
   "execution_count": 17,
   "metadata": {},
   "outputs": [
    {
     "name": "stdout",
     "output_type": "stream",
     "text": [
      "Hello Welcome to the python Learning\n"
     ]
    }
   ],
   "source": [
    "# Printing the statement directly simple string\n",
    "print(\"Hello Welcome to the python Learning\")"
   ]
  },
  {
   "cell_type": "code",
   "execution_count": 38,
   "metadata": {},
   "outputs": [
    {
     "name": "stdout",
     "output_type": "stream",
     "text": [
      "The name of the customer is: elon and musk\n"
     ]
    }
   ],
   "source": [
    "# Printing the statement with some variable\n",
    "# here FN and LN are variables\n",
    "# variables are directly assigned and printed using variables\n",
    "FN = \"elon\"\n",
    "LN = \"musk\"\n",
    "print(\"The name of the Person is: \"+FN+\" and \"+LN)\n"
   ]
  },
  {
   "cell_type": "code",
   "execution_count": 36,
   "metadata": {},
   "outputs": [
    {
     "name": "stdout",
     "output_type": "stream",
     "text": [
      "The name of the customer is: Elon,Musk\n"
     ]
    }
   ],
   "source": [
    "# Printing the statement with some variable\n",
    "# here FN and LN are variables\n",
    "# variables are directly assigned and printed using variable\n",
    "# This time using the formatted strings\n",
    "FN = \"elon\"\n",
    "LN = \"musk\"\n",
    "full_name = f\"{FN},{LN}\"\n",
    "print(\"The name of the person is: \"+full_name.title())"
   ]
  },
  {
   "cell_type": "code",
   "execution_count": 74,
   "metadata": {},
   "outputs": [
    {
     "name": "stdout",
     "output_type": "stream",
     "text": [
      "The name of the person is: ELON MUSK\n",
      "The name of the person is: ELON,MUSK\n",
      "True\n"
     ]
    }
   ],
   "source": [
    "# Printing the statement with some variable\n",
    "# here FN and LN are variables\n",
    "# variables are directly assigned and printed using variable\n",
    "# This time using the formatted strings along with changing to upper case\n",
    "# Converting to the upper case and then checking for the upper case with builtin functions \n",
    "FN = \"elon\"\n",
    "LN = \"musk\"\n",
    "full_name = f\"{FN},{LN}\"\n",
    "print(\"The name of the person is: \"+FN.upper()+\" \"+LN.upper())\n",
    "print(\"The name of the person is: \"+full_name.upper())\n",
    "print(full_name.upper().isupper())"
   ]
  },
  {
   "cell_type": "code",
   "execution_count": 41,
   "metadata": {
    "scrolled": true
   },
   "outputs": [
    {
     "name": "stdout",
     "output_type": "stream",
     "text": [
      "The name of the person is: elon musk\n"
     ]
    }
   ],
   "source": [
    "# Printing the statement with some variable\n",
    "# here FN and LN are variables\n",
    "# variables are directly assigned and printed using variable\n",
    "# This time using the formatted strings along with changing to upper case\n",
    "# Converting to the lower case and then checking for the lower case with builtin functions \n",
    "FN = \"elon\"\n",
    "LN = \"musk\"\n",
    "full_name = f\"{FN},{LN}\"\n",
    "print(\"The name of the person is: \"+FN.lower()+\" \"+LN.lower())"
   ]
  },
  {
   "cell_type": "code",
   "execution_count": 80,
   "metadata": {},
   "outputs": [
    {
     "name": "stdout",
     "output_type": "stream",
     "text": [
      "First Name is: elon  \n",
      "Last  Name is:   musk  \n",
      "First Name is: elon\n",
      "Last  Name is: musk\n"
     ]
    }
   ],
   "source": [
    "# Printing the statement with some variable\n",
    "# here FN and LN are variables\n",
    "# variables are directly assigned and printed using variable\n",
    "# This time using the empty spaces and printing those values\n",
    "# This time stripping thsoe empty spaces and printing those values using rstrip() for stripping right empty space\n",
    "# This time using just strip to have both stripping of space at left and right\n",
    "FN = \"elon  \"\n",
    "LN = \"  musk  \"\n",
    "print(\"First Name is: \"+FN)\n",
    "print(\"Last  Name is: \"+LN)\n",
    "print(\"First Name is: \"+FN.rstrip())\n",
    "print(\"Last  Name is: \"+LN.strip())"
   ]
  },
  {
   "cell_type": "code",
   "execution_count": 57,
   "metadata": {},
   "outputs": [
    {
     "name": "stdout",
     "output_type": "stream",
     "text": [
      "False\n",
      "elonmusk\n"
     ]
    }
   ],
   "source": [
    "# Printing the statement with some variable\n",
    "# here FN and LN are variables\n",
    "# variables are directly assigned and printed using variable\n",
    "# This time using the formatted strings along with changing to upper case\n",
    "# Converting to the lower case and then checking for the lower case with builtin functions \n",
    "FN = \"elon\"\n",
    "LN = \"musk\"\n",
    "full_name = f\"{FN},{LN}\"\n",
    "print(FN.upper().islower())\n",
    "print(FN+LN)"
   ]
  },
  {
   "cell_type": "code",
   "execution_count": 92,
   "metadata": {},
   "outputs": [
    {
     "name": "stdout",
     "output_type": "stream",
     "text": [
      "Hello elon musk  you are 45  of age ,you are born at south africa  and you passionate about resuability\n"
     ]
    }
   ],
   "source": [
    "# Printing the statement with some variable\n",
    "# here name age country and passion are variables\n",
    "# variables are directly assigned and printed using variable\n",
    "# This time using the place holders using {} this has to be the in the same order of the variables and starts at 0\n",
    "name = \"elon musk \"\n",
    "age = \"45 \"\n",
    "country = \"south africa \"\n",
    "passion = \"resuability\"\n",
    "print(\"Hello {0} you are {1} of age ,you are born at {2} and you passionate about {3}\".format(name,age,country,passion))"
   ]
  },
  {
   "cell_type": "code",
   "execution_count": 95,
   "metadata": {},
   "outputs": [
    {
     "name": "stdout",
     "output_type": "stream",
     "text": [
      "What is your name Elon Musk\n",
      "What is your age 45\n",
      "where are you from south africa\n",
      "what is your passionreusability transportation\n",
      "Hello Elon Musk your age is 45 you are from south africaand your passion is reusability transportation\n"
     ]
    }
   ],
   "source": [
    "# Printing the statement with some variable\n",
    "# here name age country and passion are input variables\n",
    "# variables are assigned values at run time and then printed\n",
    "# This time using the place holders using {} this has to be the in the same order of the variables and starts at 0\n",
    "name = input(\"What is your name \")\n",
    "age = input(\"What is your age \")\n",
    "country = input(\"where are you from \")\n",
    "passion = input(\"what is your passion\")\n",
    "print(\"Hello \"+name+ \" your age is \"+age+ \" you are from \"+country+ \"and your passion is \"+passion)"
   ]
  }
 ],
 "metadata": {
  "kernelspec": {
   "display_name": "Python 3",
   "language": "python",
   "name": "python3"
  },
  "language_info": {
   "codemirror_mode": {
    "name": "ipython",
    "version": 3
   },
   "file_extension": ".py",
   "mimetype": "text/x-python",
   "name": "python",
   "nbconvert_exporter": "python",
   "pygments_lexer": "ipython3",
   "version": "3.7.3"
  }
 },
 "nbformat": 4,
 "nbformat_minor": 2
}
