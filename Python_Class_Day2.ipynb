{
 "cells": [
  {
   "cell_type": "code",
   "execution_count": 67,
   "metadata": {},
   "outputs": [
    {
     "name": "stdout",
     "output_type": "stream",
     "text": [
      "15\n",
      "0.30000000000000004\n"
     ]
    }
   ],
   "source": [
    "# to comment the line for python code it will consider as comment\n",
    "# Numbers are one type of data which often be used while programming\n",
    "# integers- is one data type in which it is defined as a whole number (integer like 10 or 1 or 5 without decimals)\n",
    "\n",
    "x=5  # x is assigned a value of 5\n",
    "y=10 # y is assigned a value of 10\n",
    "print(x+y) # now when both x+y is printed the output shows as 10+5 =15\n",
    "# now if we want to print a decimal value \n",
    "# Float- This is one type of datatype in which if it stores all the decimal values\n",
    "x=0.1  # x is assigned a value of 0.1 \n",
    "y=0.2  # y is assigned a value of 0.2\n",
    "print(x+y)  # now when both x+y is printed the output shows as 0.1+0.2 = 0.3"
   ]
  },
  {
   "cell_type": "code",
   "execution_count": 70,
   "metadata": {},
   "outputs": [
    {
     "name": "stdout",
     "output_type": "stream",
     "text": [
      "2 3 4\n",
      "2 3 4\n"
     ]
    }
   ],
   "source": [
    "# Number variables can be assigned in two ways\n",
    "# individual assignment\n",
    "# ordered/group assignment\n",
    "# individual assignment example\n",
    "x = 2  #  x is assigned a value of 2\n",
    "y = 3  #  y is assigned a value of 3\n",
    "z = 4  #  z is assigned a value of 4\n",
    "print(x,y,z) # when x,y,z is printed it shows as 2,3,4\n",
    "# now x,y,z is assigned in one ordered/group\n",
    "x,y,z = 2,3,4  #  x,y,z is assigned values as 2,3,4\n",
    "print(x,y,z)  #   when x,y,z is printed it shows as 2,3,4"
   ]
  },
  {
   "cell_type": "code",
   "execution_count": 76,
   "metadata": {},
   "outputs": [
    {
     "name": "stdout",
     "output_type": "stream",
     "text": [
      "3.14\n"
     ]
    }
   ],
   "source": [
    "# constants in python- its a like a variable whose value is the same same thoughout the life of the program\n",
    "# if it gets declared in CAPITAL letters then its a constant\n",
    "PI_VALUE = 3.14\n",
    "print(PI_VALUE)"
   ]
  },
  {
   "cell_type": "code",
   "execution_count": 77,
   "metadata": {},
   "outputs": [
    {
     "name": "stdout",
     "output_type": "stream",
     "text": [
      "['hero', 'ranger', 'trek', 'redline']\n",
      "hero\n",
      "trek\n"
     ]
    }
   ],
   "source": [
    "# introduction to list data type \n",
    "# its defined in a []\n",
    "# its a mutable datatype means it can be updated changed or inserted \n",
    "# its a collection of items in particular order \n",
    "bicycles=[\"hero\",\"ranger\",\"trek\",\"redline\"]\n",
    "print(bicycles) # prints the entire elements from the list\n",
    "# how to print a individual element from a list -- by using a index we can print individual element\n",
    "# index will be starting from 0 not from 1\n",
    "print(bicycles[0]) # 0 element is hero in the List hence it prints hero\n",
    "print(bicycles[2]) # 2 element is trek in the List hence it prints trek\n"
   ]
  }
 ],
 "metadata": {
  "kernelspec": {
   "display_name": "Python 3",
   "language": "python",
   "name": "python3"
  },
  "language_info": {
   "codemirror_mode": {
    "name": "ipython",
    "version": 3
   },
   "file_extension": ".py",
   "mimetype": "text/x-python",
   "name": "python",
   "nbconvert_exporter": "python",
   "pygments_lexer": "ipython3",
   "version": "3.7.3"
  }
 },
 "nbformat": 4,
 "nbformat_minor": 2
}
