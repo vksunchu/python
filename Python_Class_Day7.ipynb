{
 "cells": [
  {
   "cell_type": "code",
   "execution_count": 4,
   "metadata": {},
   "outputs": [
    {
     "name": "stdout",
     "output_type": "stream",
     "text": [
      "1\n",
      "2\n",
      "3\n",
      "4\n",
      "5\n"
     ]
    }
   ],
   "source": [
    "# While Loop in python\n",
    "# it wil go on loop until an condition is met, check the condition until its true\n",
    "# lets do with an example\n",
    "curr_val = 1\n",
    "while curr_val <= 5:\n",
    "    print(curr_val)\n",
    "    curr_val +=1\n"
   ]
  },
  {
   "cell_type": "code",
   "execution_count": 5,
   "metadata": {},
   "outputs": [
    {
     "name": "stdout",
     "output_type": "stream",
     "text": [
      "\n",
      " current_number is:= 1\n",
      "\n",
      " current_number is:= 2\n",
      "\n",
      " current_number is:= 3\n",
      "\n",
      " current_number is:= 4\n",
      "\n",
      " current_number is:= 5\n"
     ]
    }
   ],
   "source": [
    "curr_val = 1\n",
    "while curr_val <= 5:\n",
    "    print(f\"\\n current_number is:= {curr_val}\")\n",
    "    curr_val +=1\n"
   ]
  },
  {
   "cell_type": "code",
   "execution_count": 6,
   "metadata": {},
   "outputs": [
    {
     "name": "stdout",
     "output_type": "stream",
     "text": [
      "\n",
      " Tell me something, and I will repeat it\n",
      " Enter 'Quit' to end the program hello\n",
      "\n",
      " Tell me something, and I will repeat it\n",
      " Enter 'Quit' to end the program hello\n",
      "\n",
      " Tell me something, and I will repeat it\n",
      " Enter 'Quit' to end the program quit\n",
      "\n",
      " Tell me something, and I will repeat it\n",
      " Enter 'Quit' to end the program Quit\n",
      "Quit\n"
     ]
    }
   ],
   "source": [
    "# Lets say user wants to termiante the loop if a condition is met\n",
    "# lets see an example\n",
    "prompt = \"\\n Tell me something, and I will repeat it\"\n",
    "prompt += \"\\n Enter 'Quit' to end the program \"\n",
    "message = \"   \"\n",
    "while message !='Quit':\n",
    "    message = input(prompt)\n",
    "print(message)"
   ]
  },
  {
   "cell_type": "code",
   "execution_count": 7,
   "metadata": {},
   "outputs": [
    {
     "name": "stdout",
     "output_type": "stream",
     "text": [
      "Hello\n"
     ]
    }
   ],
   "source": [
    "# Introduction to functions\n",
    "\n",
    "# doc string\n",
    "# Writing doc strings and indentation need to be maintained.\n",
    "# defining a function in python:\n",
    "\n",
    "def Greet_User ():\n",
    "    \"\"\"\"Display a simple greeting\"\"\"\n",
    "    print(\"Hello\")\n",
    "Greet_User()"
   ]
  },
  {
   "cell_type": "code",
   "execution_count": 10,
   "metadata": {},
   "outputs": [
    {
     "name": "stdout",
     "output_type": "stream",
     "text": [
      "Hello, Vinod Sunchu!\n"
     ]
    }
   ],
   "source": [
    "# Passing information to a function:\n",
    "# While Defining functions we need to have parameter\n",
    "# While calling function we need to have argument.\n",
    "\n",
    "def greet_user(username):\n",
    "    print(f\"Hello, {username.title()}!\")\n",
    "greet_user('vinod sunchu')\n",
    "\n",
    "# In the above example username is \"Parameter\"\n",
    "# In the above example vinodsunchu is \"Argument\""
   ]
  }
 ],
 "metadata": {
  "kernelspec": {
   "display_name": "Python 3",
   "language": "python",
   "name": "python3"
  },
  "language_info": {
   "codemirror_mode": {
    "name": "ipython",
    "version": 3
   },
   "file_extension": ".py",
   "mimetype": "text/x-python",
   "name": "python",
   "nbconvert_exporter": "python",
   "pygments_lexer": "ipython3",
   "version": "3.7.3"
  }
 },
 "nbformat": 4,
 "nbformat_minor": 2
}
