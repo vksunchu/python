{
 "cells": [
  {
   "cell_type": "code",
   "execution_count": 1,
   "metadata": {},
   "outputs": [
    {
     "name": "stdout",
     "output_type": "stream",
     "text": [
      "['harry', 'dumbledore', 'harmonie', 'anand']\n"
     ]
    }
   ],
   "source": [
    "#introduction to loops\n",
    "#looping through the entire list\n",
    "#iterations \n",
    "# lets create a list with some elements in it \n",
    "# creating a empty list first\n",
    "magicians = [] \n",
    "magicians.append('harry')\n",
    "magicians.append('dumbledore')\n",
    "magicians.append('harmonie')\n",
    "magicians.append('anand')\n",
    "#This will print in one line all the elements will print\n",
    "print(magicians)"
   ]
  },
  {
   "cell_type": "code",
   "execution_count": 7,
   "metadata": {},
   "outputs": [
    {
     "name": "stdout",
     "output_type": "stream",
     "text": [
      "harry\n",
      "dumbledore\n",
      "harmonie\n",
      "anand\n",
      "anand\n"
     ]
    }
   ],
   "source": [
    "#introduction to loops\n",
    "#looping through the entire list\n",
    "#iterations \n",
    "# lets create a list with some elements in it \n",
    "# creating a empty list first\n",
    "magicians = [] \n",
    "magicians.append('harry')\n",
    "magicians.append('dumbledore')\n",
    "magicians.append('harmonie')\n",
    "magicians.append('anand')\n",
    "# we have to print the element list in each new line\n",
    "# here the colon : is the indicator that its a loop\n",
    "# and the print statement should have 4 spaces (indentation) thats the python rule\n",
    "# Since we have 4 elements in the list it will loop 4 times and prints 4 rows \n",
    "for magician in magicians:\n",
    "    print(magician)\n",
    "  "
   ]
  },
  {
   "cell_type": "code",
   "execution_count": 18,
   "metadata": {},
   "outputs": [
    {
     "name": "stdout",
     "output_type": "stream",
     "text": [
      "Harry, That was a great trick\n",
      "I can't wait to see your next trick\n",
      "Dumbledore, That was a great trick\n",
      "I can't wait to see your next trick\n",
      "Harmonie, That was a great trick\n",
      "I can't wait to see your next trick\n",
      "Anand, That was a great trick\n",
      "I can't wait to see your next trick\n"
     ]
    }
   ],
   "source": [
    "#introduction to loops\n",
    "#looping through the entire list\n",
    "#iterations \n",
    "# lets create a list with some elements in it \n",
    "# creating a empty list first\n",
    "magicians = [] \n",
    "magicians.append('harry')\n",
    "magicians.append('dumbledore')\n",
    "magicians.append('harmonie')\n",
    "magicians.append('anand')\n",
    "# we have to print the element list in each new line\n",
    "# here the colon : is the indicator that its a loop\n",
    "# and the print statement should have 4 spaces (indentation) thats the python rule\n",
    "# Since we have 4 elements in the list it will loop 4 times and prints 4 rows \n",
    "for x in magicians:\n",
    "    print(f\"{x.title()}, That was a great trick\")\n",
    "    print(f\"I can't wait to see your next trick\")"
   ]
  },
  {
   "cell_type": "code",
   "execution_count": 19,
   "metadata": {},
   "outputs": [
    {
     "name": "stdout",
     "output_type": "stream",
     "text": [
      "Harry, That was a great trick\n",
      "Dumbledore, That was a great trick\n",
      "Harmonie, That was a great trick\n",
      "Anand, That was a great trick\n",
      "I can't wait to see your next trick\n"
     ]
    }
   ],
   "source": [
    "#introduction to loops\n",
    "#looping through the entire list\n",
    "#iterations \n",
    "# lets create a list with some elements in it \n",
    "# creating a empty list first\n",
    "magicians = [] \n",
    "magicians.append('harry')\n",
    "magicians.append('dumbledore')\n",
    "magicians.append('harmonie')\n",
    "magicians.append('anand')\n",
    "# we have to print the element list in each new line\n",
    "# here the colon : is the indicator that its a loop\n",
    "# and the print statement should have 4 spaces (indentation) thats the python rule\n",
    "# Since we have 4 elements in the list it will loop 4 times and prints 4 rows \n",
    "for x in magicians:\n",
    "    print(f\"{x.title()}, That was a great trick\")\n",
    "print(f\"I can't wait to see your next trick\")"
   ]
  },
  {
   "cell_type": "code",
   "execution_count": 25,
   "metadata": {},
   "outputs": [
    {
     "name": "stdout",
     "output_type": "stream",
     "text": [
      "1\n",
      "2\n",
      "3\n",
      "4\n"
     ]
    }
   ],
   "source": [
    "# Making a numerical List\n",
    "# and doing some math\n",
    "# here range(1,5) these are inclusive of start but exclusive of end\n",
    "# range(1,5) 1 is start and 5 is end. so 5 will not be considered\n",
    "for x in range(1,5):\n",
    "    print(x)"
   ]
  },
  {
   "cell_type": "code",
   "execution_count": 26,
   "metadata": {},
   "outputs": [
    {
     "name": "stdout",
     "output_type": "stream",
     "text": [
      "0\n",
      "1\n",
      "2\n",
      "3\n",
      "4\n",
      "5\n"
     ]
    }
   ],
   "source": [
    "# here range(6) these are values less than 6 but not 6  \n",
    "for x in range(6):\n",
    "    print(x)"
   ]
  },
  {
   "cell_type": "code",
   "execution_count": 27,
   "metadata": {},
   "outputs": [
    {
     "name": "stdout",
     "output_type": "stream",
     "text": [
      "[1, 2, 3, 4, 5]\n"
     ]
    }
   ],
   "source": [
    "# using range to make a list of numbers\n",
    "numbers = list(range(1,6))\n",
    "print(numbers)"
   ]
  },
  {
   "cell_type": "code",
   "execution_count": 30,
   "metadata": {},
   "outputs": [
    {
     "name": "stdout",
     "output_type": "stream",
     "text": [
      "[2, 4, 6, 8, 10, 12, 14, 16, 18, 20]\n"
     ]
    }
   ],
   "source": [
    "# using range to make a list of numbers\n",
    "# how to print only the even numbers in a given numbers\n",
    "# (2,21,2) here 2 is the start, 21 is the end (stop) and 2 is the step, that means it will give the numbers in increments of 2\n",
    "numbers = list(range(2,21,2))\n",
    "print(numbers)"
   ]
  },
  {
   "cell_type": "code",
   "execution_count": null,
   "metadata": {},
   "outputs": [],
   "source": [
    "# using range to make a list of numbers\n",
    "# how to print only the even numbers in a given numbers\n",
    "# (2,21,2) here 2 is the start, 21 is the end (stop) and 2 is the step, that means it will give the numbers in increments of 2\n",
    "numbers = list(range(2,21,2))\n",
    "print(numbers)"
   ]
  },
  {
   "cell_type": "code",
   "execution_count": 31,
   "metadata": {},
   "outputs": [
    {
     "name": "stdout",
     "output_type": "stream",
     "text": [
      "[1, 2, 3, 4, 5, 6, 7, 8, 9, 10, 12, 14, 13, 16, 17, 15, 19, 18]\n"
     ]
    }
   ],
   "source": [
    "# using range to make a list of numbers\n",
    "# how to do a statistical operations on a list\n",
    "digits=[1,2,3,4,5,6,7,8,9,10,12,14,13,16,17,15,19,18]\n",
    "print(digits)"
   ]
  },
  {
   "cell_type": "code",
   "execution_count": 35,
   "metadata": {},
   "outputs": [
    {
     "name": "stdout",
     "output_type": "stream",
     "text": [
      "1\n"
     ]
    }
   ],
   "source": [
    "# using range to make a list of numbers\n",
    "# how to do a statistical operations on a list\n",
    "digits=[1,2,3,4,5,6,7,8,9,10,12,14,13,16,17,15,19,18]\n",
    "print(min(digits))"
   ]
  },
  {
   "cell_type": "code",
   "execution_count": 36,
   "metadata": {},
   "outputs": [
    {
     "name": "stdout",
     "output_type": "stream",
     "text": [
      "19\n"
     ]
    }
   ],
   "source": [
    "# using range to make a list of numbers\n",
    "# how to do a statistical operations on a list\n",
    "digits=[1,2,3,4,5,6,7,8,9,10,12,14,13,16,17,15,19,18]\n",
    "print(max(digits))"
   ]
  },
  {
   "cell_type": "code",
   "execution_count": 37,
   "metadata": {},
   "outputs": [
    {
     "name": "stdout",
     "output_type": "stream",
     "text": [
      "179\n"
     ]
    }
   ],
   "source": [
    "# using range to make a list of numbers\n",
    "# how to do a statistical operations on a list\n",
    "digits=[1,2,3,4,5,6,7,8,9,10,12,14,13,16,17,15,19,18]\n",
    "print(sum(digits))"
   ]
  },
  {
   "cell_type": "code",
   "execution_count": 50,
   "metadata": {},
   "outputs": [
    {
     "name": "stdout",
     "output_type": "stream",
     "text": [
      "['dhoni', 'dravid', 'kumble']\n"
     ]
    }
   ],
   "source": [
    "# slicing of a list\n",
    "players =['yuvraj','sachin','dhoni','dravid','kumble']\n",
    "# need to print values only from dhoni to kumble\n",
    "print(players[2:5])"
   ]
  }
 ],
 "metadata": {
  "kernelspec": {
   "display_name": "Python 3",
   "language": "python",
   "name": "python3"
  },
  "language_info": {
   "codemirror_mode": {
    "name": "ipython",
    "version": 3
   },
   "file_extension": ".py",
   "mimetype": "text/x-python",
   "name": "python",
   "nbconvert_exporter": "python",
   "pygments_lexer": "ipython3",
   "version": "3.7.3"
  }
 },
 "nbformat": 4,
 "nbformat_minor": 2
}
