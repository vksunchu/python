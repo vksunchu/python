{
 "cells": [
  {
   "cell_type": "code",
   "execution_count": 1,
   "metadata": {},
   "outputs": [
    {
     "name": "stdout",
     "output_type": "stream",
     "text": [
      "{'color': 'green', 'points': 5}\n"
     ]
    }
   ],
   "source": [
    "# Introduction to Dictionary Datatype\n",
    "# A dictionary datatype in python is a collection of key value pairs\n",
    "# Each key is connected with a value\n",
    "# Dictionary is a mutable datatype we can add modify delete by using flower brackets {}\n",
    "alien_0={'color':'green','points':5}\n",
    "print(alien_0)"
   ]
  },
  {
   "cell_type": "code",
   "execution_count": 2,
   "metadata": {},
   "outputs": [
    {
     "name": "stdout",
     "output_type": "stream",
     "text": [
      "5\n"
     ]
    }
   ],
   "source": [
    "alien_0={'color':'green','points':5}\n",
    "print(alien_0['points'])"
   ]
  },
  {
   "cell_type": "code",
   "execution_count": 8,
   "metadata": {},
   "outputs": [
    {
     "name": "stdout",
     "output_type": "stream",
     "text": [
      "{'color': 'yellow', 'points': 10, 'score': 50, 'net total': 100}\n",
      "the alien is in yellow\n",
      "the alien now is in blue\n"
     ]
    }
   ],
   "source": [
    "# how to initialize an empty dictionary\n",
    "alien_1={}\n",
    "alien_1['color']  = 'yellow'\n",
    "alien_1['points'] = 10\n",
    "alien_1['score']  = 50\n",
    "alien_1['net total'] = 100\n",
    "print(alien_1)\n",
    "print(f\"the alien is in {alien_1['color']}\")\n",
    "alien_1['color'] = 'blue'\n",
    "print(f\"the alien now is in {alien_1['color']}\")\n",
    "      \n"
   ]
  },
  {
   "cell_type": "code",
   "execution_count": 11,
   "metadata": {},
   "outputs": [
    {
     "name": "stdout",
     "output_type": "stream",
     "text": [
      "{'color': 'red', 'points': 10}\n",
      "Deleted points from alien_2\n",
      "{'color': 'red'}\n"
     ]
    }
   ],
   "source": [
    "# Is python mutable (or) immutable -- it is mutable\n",
    "\n",
    "# deleting the value in the dictionary\n",
    "\n",
    "alien_2 = {'color':'red', 'points':10}\n",
    "print (alien_2)\n",
    "del alien_2['points'] # this will delete the entire key and value pair\n",
    "print ('Deleted points from alien_2')\n",
    "print (alien_2)"
   ]
  },
  {
   "cell_type": "code",
   "execution_count": 18,
   "metadata": {},
   "outputs": [
    {
     "name": "stdout",
     "output_type": "stream",
     "text": [
      "orange\n",
      "Not Found in the Dictionary\n"
     ]
    }
   ],
   "source": [
    "# how to avoid \"Key Error\"...by using get() function in the dictionary\n",
    "# we can call the key and also declare a message to be printed if that key is missing in the given dictionary.\n",
    "# which will be useful during debug purpose.\n",
    "\n",
    "alien_3={'color':'orange','speed':'slow'}\n",
    "print(alien_3.get('color','Found in dictionary'))\n",
    "print(alien_3.get('points','Not Found in the Dictionary'))\n"
   ]
  }
 ],
 "metadata": {
  "kernelspec": {
   "display_name": "Python 3",
   "language": "python",
   "name": "python3"
  },
  "language_info": {
   "codemirror_mode": {
    "name": "ipython",
    "version": 3
   },
   "file_extension": ".py",
   "mimetype": "text/x-python",
   "name": "python",
   "nbconvert_exporter": "python",
   "pygments_lexer": "ipython3",
   "version": "3.7.3"
  }
 },
 "nbformat": 4,
 "nbformat_minor": 2
}
