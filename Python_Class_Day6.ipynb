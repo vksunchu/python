{
 "cells": [
  {
   "cell_type": "code",
   "execution_count": 2,
   "metadata": {},
   "outputs": [
    {
     "name": "stdout",
     "output_type": "stream",
     "text": [
      "200\n",
      "50\n"
     ]
    }
   ],
   "source": [
    "# Introduction to Tupe -Data Type\n",
    "# it is an immutable data type\n",
    "# why tuple is needed\n",
    "# if we want to create a list of items that cannot change then we will be using tuples\n",
    "# how to declare a tuple\n",
    "# tuple can be created by using paranthesis\n",
    "# Example\n",
    "# if we want to create a rectangle that should be of always fixed size\n",
    "dimensions =(200,50)\n",
    "print(dimensions[0])\n",
    "print(dimensions[1])"
   ]
  },
  {
   "cell_type": "code",
   "execution_count": 3,
   "metadata": {},
   "outputs": [
    {
     "ename": "TypeError",
     "evalue": "'tuple' object does not support item assignment",
     "output_type": "error",
     "traceback": [
      "\u001b[0;31m---------------------------------------------------------------------------\u001b[0m",
      "\u001b[0;31mTypeError\u001b[0m                                 Traceback (most recent call last)",
      "\u001b[0;32m<ipython-input-3-e71a87031c69>\u001b[0m in \u001b[0;36m<module>\u001b[0;34m\u001b[0m\n\u001b[1;32m      1\u001b[0m \u001b[0;31m# as discussed earlier that tuple cannot be changed once created\u001b[0m\u001b[0;34m\u001b[0m\u001b[0;34m\u001b[0m\u001b[0;34m\u001b[0m\u001b[0m\n\u001b[1;32m      2\u001b[0m \u001b[0;31m# lets try to update it\u001b[0m\u001b[0;34m\u001b[0m\u001b[0;34m\u001b[0m\u001b[0;34m\u001b[0m\u001b[0m\n\u001b[0;32m----> 3\u001b[0;31m \u001b[0mdimensions\u001b[0m\u001b[0;34m[\u001b[0m\u001b[0;36m0\u001b[0m\u001b[0;34m]\u001b[0m\u001b[0;34m=\u001b[0m\u001b[0;36m250\u001b[0m\u001b[0;34m\u001b[0m\u001b[0;34m\u001b[0m\u001b[0m\n\u001b[0m\u001b[1;32m      4\u001b[0m \u001b[0mprint\u001b[0m\u001b[0;34m(\u001b[0m\u001b[0mdimensions\u001b[0m\u001b[0;34m[\u001b[0m\u001b[0;36m0\u001b[0m\u001b[0;34m]\u001b[0m\u001b[0;34m)\u001b[0m\u001b[0;34m\u001b[0m\u001b[0;34m\u001b[0m\u001b[0m\n",
      "\u001b[0;31mTypeError\u001b[0m: 'tuple' object does not support item assignment"
     ]
    }
   ],
   "source": [
    "# as discussed earlier that tuple cannot be changed once created \n",
    "# lets try to update it\n",
    "dimensions[0]=250\n",
    "print(dimensions[0])"
   ]
  },
  {
   "cell_type": "code",
   "execution_count": 4,
   "metadata": {},
   "outputs": [
    {
     "name": "stdout",
     "output_type": "stream",
     "text": [
      "10\n",
      "20\n",
      "30\n"
     ]
    }
   ],
   "source": [
    "# looping through the tuples by using for loop\n",
    "dimensions =(10,20,30)\n",
    "for dimension in dimensions:\n",
    "    print(dimension)\n"
   ]
  },
  {
   "cell_type": "code",
   "execution_count": 5,
   "metadata": {},
   "outputs": [
    {
     "name": "stdout",
     "output_type": "stream",
     "text": [
      "10\n",
      "20\n",
      "30\n"
     ]
    }
   ],
   "source": [
    "# looping through the tuples by using for loop\n",
    "dimensions =(10,20,30)\n",
    "for yz in dimensions:\n",
    "    print(yz) # here yz can be of any character or wordings"
   ]
  },
  {
   "cell_type": "code",
   "execution_count": 6,
   "metadata": {},
   "outputs": [
    {
     "name": "stdout",
     "output_type": "stream",
     "text": [
      "(30, 40, 50)\n"
     ]
    }
   ],
   "source": [
    "# writing over tuples\n",
    "dimensions1 =(10,20,30)  # -- this is old declaration\n",
    "dimensions1 =(30,40,50)  # -- this is new declaration\n",
    "print(dimensions1)"
   ]
  },
  {
   "cell_type": "code",
   "execution_count": 8,
   "metadata": {},
   "outputs": [
    {
     "name": "stdout",
     "output_type": "stream",
     "text": [
      "original values: \n",
      "1\n",
      "2\n",
      "3\n",
      "\n",
      " modified values: \n",
      "4\n",
      "5\n",
      "6\n"
     ]
    }
   ],
   "source": [
    "triangle =(1,2,3)\n",
    "print('original values: ')\n",
    "for x in triangle:\n",
    "    print(x)\n",
    "\n",
    "triangle = (4,5,6)\n",
    "print('\\n modified values: ')\n",
    "for x in triangle:\n",
    "    print(x)\n"
   ]
  },
  {
   "cell_type": "code",
   "execution_count": null,
   "metadata": {},
   "outputs": [],
   "source": [
    "# the styling guide PEP8 Rule in python\n",
    "# PEP8  --python enhancement proposals 8\n",
    "# 1 line length shoyld not exceed more than 80 characters\n",
    "# 2 maintaing blank lines\n",
    "# 3 Indentation"
   ]
  },
  {
   "cell_type": "code",
   "execution_count": 14,
   "metadata": {},
   "outputs": [
    {
     "name": "stdout",
     "output_type": "stream",
     "text": [
      "Audi\n",
      "BMW\n",
      "Tesla\n",
      "Porsche\n",
      "Benz\n",
      "Toyota\n"
     ]
    }
   ],
   "source": [
    "# introduction to IF conditions\n",
    "# Basic syntax of a IF condition\n",
    "# IF a condition tests\n",
    "# DO something\n",
    "# if my car is bmw then i want to print it in uppercase\n",
    "# if not bmw then it should be print in the title case \n",
    "\n",
    "cars =['audi','bmw','tesla','porsche','benz','toyota']\n",
    "for car in cars:\n",
    "    if car == 'bmw':\n",
    "        print(car.upper())\n",
    "    else:\n",
    "        print(car.title())"
   ]
  },
  {
   "cell_type": "code",
   "execution_count": 15,
   "metadata": {},
   "outputs": [
    {
     "data": {
      "text/plain": [
       "True"
      ]
     },
     "execution_count": 15,
     "metadata": {},
     "output_type": "execute_result"
    }
   ],
   "source": [
    "#True or False of the Statement\n",
    "car = 'rangerover'\n",
    "\n",
    "car == 'rangerover' # it is called equivality test\n"
   ]
  },
  {
   "cell_type": "code",
   "execution_count": 16,
   "metadata": {},
   "outputs": [
    {
     "data": {
      "text/plain": [
       "False"
      ]
     },
     "execution_count": 16,
     "metadata": {},
     "output_type": "execute_result"
    }
   ],
   "source": [
    "#True or False of the Statement\n",
    "car = 'rangerover'\n",
    "\n",
    "car.title() == 'rangerover' # it is called equivality test"
   ]
  },
  {
   "cell_type": "code",
   "execution_count": 17,
   "metadata": {},
   "outputs": [
    {
     "data": {
      "text/plain": [
       "False"
      ]
     },
     "execution_count": 17,
     "metadata": {},
     "output_type": "execute_result"
    }
   ],
   "source": [
    "#True or False of the Statement\n",
    "car = 'Rangerover'\n",
    "\n",
    "car.title() == 'rangerover' # it is called equivality test"
   ]
  },
  {
   "cell_type": "code",
   "execution_count": 22,
   "metadata": {},
   "outputs": [
    {
     "data": {
      "text/plain": [
       "False"
      ]
     },
     "execution_count": 22,
     "metadata": {},
     "output_type": "execute_result"
    }
   ],
   "source": [
    "# how to check if a value is exisiting in a list or not\n",
    "requested_toppings= ['mushroom','pineapple','olive','corn']\n",
    "'mushroom' in requested_toppings\n",
    "'tomato'   in requested_toppings"
   ]
  },
  {
   "cell_type": "code",
   "execution_count": 24,
   "metadata": {},
   "outputs": [
    {
     "data": {
      "text/plain": [
       "False"
      ]
     },
     "execution_count": 24,
     "metadata": {},
     "output_type": "execute_result"
    }
   ],
   "source": [
    "# how to check if a value is exisiting in a list or not\n",
    "requested_toppings= ['mushroom','pineapple','olive','corn']\n",
    "'mushroom' not in requested_toppings"
   ]
  },
  {
   "cell_type": "code",
   "execution_count": 25,
   "metadata": {},
   "outputs": [
    {
     "name": "stdout",
     "output_type": "stream",
     "text": [
      "you are old enough to vote\n"
     ]
    }
   ],
   "source": [
    "# Boolean expression it declares a true or false of the given condition\n",
    "age = 19\n",
    "if age >18:\n",
    "    print('you are old enough to vote')\n",
    "else:\n",
    "    print('sorry you are too young to vote')"
   ]
  },
  {
   "cell_type": "code",
   "execution_count": 26,
   "metadata": {},
   "outputs": [
    {
     "name": "stdout",
     "output_type": "stream",
     "text": [
      "sorry you are too young to vote\n"
     ]
    }
   ],
   "source": [
    "# Boolean expression it declares a true or false of the given condition\n",
    "age = 17\n",
    "if age >18:\n",
    "    print('you are old enough to vote')\n",
    "else:\n",
    "    print('sorry you are too young to vote')"
   ]
  },
  {
   "cell_type": "code",
   "execution_count": 27,
   "metadata": {},
   "outputs": [
    {
     "name": "stdout",
     "output_type": "stream",
     "text": [
      "tell me something and i will repeate it for you:Hello all good to see you in the training session\n",
      "Hello all good to see you in the training session\n"
     ]
    }
   ],
   "source": [
    "# introduction to user inputs\n",
    "message = input('tell me something and i will repeate it for you:')\n",
    "print(message)"
   ]
  },
  {
   "cell_type": "code",
   "execution_count": 28,
   "metadata": {},
   "outputs": [
    {
     "name": "stdout",
     "output_type": "stream",
     "text": [
      "how old are you: 17\n",
      "17\n"
     ]
    }
   ],
   "source": [
    "age =input('how old are you: ')\n",
    "print(age)"
   ]
  },
  {
   "cell_type": "code",
   "execution_count": null,
   "metadata": {},
   "outputs": [],
   "source": []
  }
 ],
 "metadata": {
  "kernelspec": {
   "display_name": "Python 3",
   "language": "python",
   "name": "python3"
  },
  "language_info": {
   "codemirror_mode": {
    "name": "ipython",
    "version": 3
   },
   "file_extension": ".py",
   "mimetype": "text/x-python",
   "name": "python",
   "nbconvert_exporter": "python",
   "pygments_lexer": "ipython3",
   "version": "3.7.3"
  }
 },
 "nbformat": 4,
 "nbformat_minor": 2
}
